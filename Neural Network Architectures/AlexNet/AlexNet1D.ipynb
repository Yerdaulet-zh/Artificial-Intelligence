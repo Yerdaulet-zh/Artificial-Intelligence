{
 "cells": [
  {
   "cell_type": "code",
   "execution_count": 1,
   "id": "53aedc9e",
   "metadata": {},
   "outputs": [],
   "source": [
    "import torch\n",
    "import torch.nn as nn"
   ]
  },
  {
   "cell_type": "code",
   "execution_count": 2,
   "id": "bad03162",
   "metadata": {},
   "outputs": [],
   "source": [
    "class AlexNet1D(nn.Module): # Without MaxPooling layers\n",
    "    def __init__(self, in_channels, num_classes):\n",
    "        super(AlexNet1D, self).__init__()\n",
    "        \n",
    "        self.conv1 = nn.Conv1d(in_channels, out_channels=4096, kernel_size=11, stride=4, bias=False)\n",
    "        self.conv2 = nn.Conv1d(in_channels=4096, out_channels=2048, kernel_size=5, stride=2, padding=2, bias=False)\n",
    "        self.conv3 = nn.Conv1d(in_channels=2048, out_channels=1024, kernel_size=3, padding=1, bias=True)\n",
    "        self.conv4 = nn.Conv1d(in_channels=1024, out_channels=512, kernel_size=3, padding=1, bias=True)\n",
    "        self.conv5 = nn.Conv1d(in_channels=512, out_channels=256, kernel_size=3, padding=1, bias=False)\n",
    "        \n",
    "        self.fc1 = nn.Linear(in_features=512, out_features=4096)\n",
    "        self.fc2 = nn.Linear(in_features=4096, out_features=4096)\n",
    "        self.fc3 = nn.Linear(in_features=4096, out_features=num_classes)\n",
    "        \n",
    "        self.drop = nn.Dropout(p=0.5)\n",
    "        self.relu = nn.ReLU(inplace=True)\n",
    "        self.bn1 = nn.BatchNorm1d(num_features=4096)\n",
    "        self.bn2 = nn.BatchNorm1d(num_features=2048)\n",
    "        self.bn3 = nn.BatchNorm1d(num_features=1024)\n",
    "        self.bn4 = nn.BatchNorm1d(num_features=512)\n",
    "        self.bn5 = nn.BatchNorm1d(num_features=256)\n",
    "        self.max_pool = nn.MaxPool1d(kernel_size=3, stride=2)\n",
    "    \n",
    "    def forward(self, x):\n",
    "        b_size = x.size(0)\n",
    "        x = self.relu(self.bn1(self.conv1(x)))\n",
    "        # x = self.max_pool(x)\n",
    "        x = self.relu(self.bn2(self.conv2(x)))\n",
    "        # x = self.max_pool(x)\n",
    "        \n",
    "        x = self.relu(self.bn3(self.conv3(x)))\n",
    "        x = self.relu(self.bn4(self.conv4(x)))\n",
    "        x = self.relu(self.bn5(self.conv5(x)))\n",
    "        # x = self.max_pool(x)\n",
    "        \n",
    "        x = x.reshape(b_size, 6, -1)\n",
    "        \n",
    "        x = self.relu(self.drop(self.fc1(x)))\n",
    "        x = self.relu(self.drop(self.fc2(x)))\n",
    "        x = self.relu(self.drop(self.fc3(x)))       \n",
    "        return x"
   ]
  },
  {
   "cell_type": "code",
   "execution_count": 3,
   "id": "d518f794",
   "metadata": {},
   "outputs": [
    {
     "data": {
      "text/plain": [
       "torch.Size([2, 6, 9])"
      ]
     },
     "execution_count": 3,
     "metadata": {},
     "output_type": "execute_result"
    }
   ],
   "source": [
    "model = AlexNet1D(in_channels=6044, num_classes=9)\n",
    "\n",
    "x = torch.randn((2, 6044, 99))\n",
    "model(x).shape"
   ]
  },
  {
   "cell_type": "code",
   "execution_count": null,
   "id": "1d2b14e0",
   "metadata": {},
   "outputs": [],
   "source": []
  }
 ],
 "metadata": {
  "kernelspec": {
   "display_name": "Python (myenv)",
   "language": "python",
   "name": "python-cvcourse"
  },
  "language_info": {
   "codemirror_mode": {
    "name": "ipython",
    "version": 3
   },
   "file_extension": ".py",
   "mimetype": "text/x-python",
   "name": "python",
   "nbconvert_exporter": "python",
   "pygments_lexer": "ipython3",
   "version": "3.9.13"
  }
 },
 "nbformat": 4,
 "nbformat_minor": 5
}
