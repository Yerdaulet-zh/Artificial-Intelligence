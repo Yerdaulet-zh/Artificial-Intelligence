{
 "cells": [
  {
   "cell_type": "code",
   "execution_count": 1,
   "id": "03588710",
   "metadata": {},
   "outputs": [],
   "source": [
    "import torch\n",
    "import torch.nn as nn"
   ]
  },
  {
   "cell_type": "code",
   "execution_count": 2,
   "id": "7ac4e1d9",
   "metadata": {},
   "outputs": [],
   "source": [
    "class GRUE(nn.Module): # (N, C, L) --> N - Batch size | C - Num of chanels | L - length of signal sequence\n",
    "    def __init__(self, in_channels, embedding_dim, num_classes):\n",
    "        super(GRUE, self).__init__()\n",
    "        self.in_channels = in_channels\n",
    "        \n",
    "        self.embedding = nn.Embedding(num_embeddings=in_channels, embedding_dim=embedding_dim)\n",
    "        self.conv1 = nn.Sequential(\n",
    "            nn.Conv1d(self.in_channels, out_channels=64, kernel_size=3, stride=2),\n",
    "            nn.BatchNorm1d(64),\n",
    "            nn.LeakyReLU(64)\n",
    "        )\n",
    "        self.conv2 = nn.Sequential(\n",
    "            nn.Conv1d(in_channels=64, out_channels=64*2, kernel_size=3, stride=2),\n",
    "            nn.BatchNorm1d(64*2),\n",
    "            nn.LeakyReLU(64*2)\n",
    "        )\n",
    "        self.fc = nn.Linear(in_features=24, out_features=48)\n",
    "        self.relu = nn.LeakyReLU(48)\n",
    "        self.gru = nn.GRU(48, 48, bidirectional=True, num_layers=2, dropout=0.25, batch_first=True)\n",
    "        self.fc1 = nn.Linear(in_features=2048, out_features=num_classes)\n",
    "        \n",
    "    \n",
    "    def forward(self, x):\n",
    "        bs = x.size(0)\n",
    "        x = self.embedding(x)\n",
    "        x = self.conv1(x)\n",
    "        x = self.conv2(x)\n",
    "        x = self.fc(x)\n",
    "        x = self.relu(x)\n",
    "        x, _ = self.gru(x)\n",
    "        x = x.reshape(bs, 6, -1)\n",
    "        x = self.fc1(x)\n",
    "        return x"
   ]
  },
  {
   "cell_type": "code",
   "execution_count": 4,
   "id": "3e175d4b",
   "metadata": {
    "scrolled": true
   },
   "outputs": [
    {
     "data": {
      "text/plain": [
       "torch.Size([1, 6, 9])"
      ]
     },
     "execution_count": 4,
     "metadata": {},
     "output_type": "execute_result"
    }
   ],
   "source": [
    "x = torch.randint(0, 44, (6044, ))[None]\n",
    "\n",
    "model = GRUE(in_channels=6044, embedding_dim=99, num_classes=9)\n",
    "model(x).shape"
   ]
  },
  {
   "cell_type": "code",
   "execution_count": null,
   "id": "0d9a9bda",
   "metadata": {},
   "outputs": [],
   "source": []
  },
  {
   "cell_type": "code",
   "execution_count": null,
   "id": "3cbe9b1e",
   "metadata": {},
   "outputs": [],
   "source": []
  },
  {
   "cell_type": "code",
   "execution_count": null,
   "id": "f5966c4d",
   "metadata": {},
   "outputs": [],
   "source": []
  },
  {
   "cell_type": "code",
   "execution_count": null,
   "id": "24ece965",
   "metadata": {},
   "outputs": [],
   "source": []
  }
 ],
 "metadata": {
  "kernelspec": {
   "display_name": "Python (myenv)",
   "language": "python",
   "name": "python-cvcourse"
  },
  "language_info": {
   "codemirror_mode": {
    "name": "ipython",
    "version": 3
   },
   "file_extension": ".py",
   "mimetype": "text/x-python",
   "name": "python",
   "nbconvert_exporter": "python",
   "pygments_lexer": "ipython3",
   "version": "3.9.13"
  }
 },
 "nbformat": 4,
 "nbformat_minor": 5
}
