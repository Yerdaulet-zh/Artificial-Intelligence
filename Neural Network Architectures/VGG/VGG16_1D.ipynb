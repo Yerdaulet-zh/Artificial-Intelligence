{
 "cells": [
  {
   "cell_type": "code",
   "execution_count": 1,
   "id": "0be2812d",
   "metadata": {},
   "outputs": [],
   "source": [
    "import torch\n",
    "import torch.nn as nn"
   ]
  },
  {
   "cell_type": "code",
   "execution_count": 2,
   "id": "a3d2f448",
   "metadata": {},
   "outputs": [],
   "source": [
    "class VGG16(nn.Module):\n",
    "    def __init__(self, in_channels, num_classes):\n",
    "        super(VGG16, self).__init__()\n",
    "        self.in_channels = in_channels\n",
    "        \n",
    "        self.layer1 = self._make_layer(size=3)\n",
    "        self.conv = nn.Conv1d(in_channels=128, out_channels=128, kernel_size=2, bias=False)\n",
    "        self.bn = nn.BatchNorm1d(num_features=128)\n",
    "        \n",
    "        \n",
    "        self.fc1 = nn.Linear(in_features=128, out_features=128*2, bias=False)\n",
    "        self.fc2 = nn.Linear(in_features=128*2, out_features=num_classes)\n",
    "        \n",
    "        self.relu = nn.ReLU(inplace=True)\n",
    "        self.bn1 = nn.BatchNorm1d(num_features=6)\n",
    "    \n",
    "    def forward(self, x):\n",
    "        x = self.layer1(x)\n",
    "        x = self.bn(self.conv(x))\n",
    "        \n",
    "        x = x.reshape(-1, 6, 128)\n",
    "        \n",
    "        x = self.bn1(self.fc1(x))\n",
    "        x = self.fc2(self.relu(x))\n",
    "        return x\n",
    "    \n",
    "    def _make_layer(self, size=None):\n",
    "        layers = []\n",
    "        out_channels = 512\n",
    "        \n",
    "        if size == 3:\n",
    "            for j in range(size-1):\n",
    "                for i in range(size):\n",
    "                    layer = nn.Sequential(\n",
    "                            nn.Conv1d(in_channels=self.in_channels, out_channels=out_channels, kernel_size=3, bias=False),\n",
    "                            nn.BatchNorm1d(num_features=out_channels),\n",
    "                            nn.ReLU(inplace=True))\n",
    "                    layers.append(layer)\n",
    "                    self.in_channels = out_channels\n",
    "                layers.append(nn.Sequential(nn.MaxPool1d(kernel_size=2)))\n",
    "            out_channels = out_channels // 2 # 512 ---> 256 \n",
    "            \n",
    "            for j in range(size-1):\n",
    "                layer = nn.Sequential(\n",
    "                            nn.Conv1d(in_channels=self.in_channels, out_channels=out_channels, kernel_size=3, bias=False),\n",
    "                            nn.BatchNorm1d(num_features=out_channels), \n",
    "                            nn.ReLU(inplace=True))\n",
    "                layers.append(layer)\n",
    "                self.in_channels = out_channels\n",
    "            \n",
    "            out_channels = out_channels // 2 # 256 ---> 128\n",
    "            layer = nn.Sequential(\n",
    "                            nn.Conv1d(in_channels=self.in_channels, out_channels=out_channels, kernel_size=3, bias=False),\n",
    "                            nn.BatchNorm1d(num_features=out_channels), \n",
    "                            nn.ReLU(inplace=True),\n",
    "                            nn.MaxPool1d(kernel_size=2))\n",
    "            layers.append(layer)\n",
    "            self.in_channels = out_channels\n",
    "                \n",
    "        return nn.Sequential(*layers)"
   ]
  },
  {
   "cell_type": "code",
   "execution_count": 3,
   "id": "6ba336d2",
   "metadata": {},
   "outputs": [
    {
     "data": {
      "text/plain": [
       "torch.Size([1, 6, 9])"
      ]
     },
     "execution_count": 3,
     "metadata": {},
     "output_type": "execute_result"
    }
   ],
   "source": [
    "model = VGG16(in_channels=6044, num_classes=9)\n",
    "\n",
    "x = torch.randn((1, 6044, 99))\n",
    "model(x).shape"
   ]
  },
  {
   "cell_type": "code",
   "execution_count": null,
   "id": "52825eb1",
   "metadata": {},
   "outputs": [],
   "source": []
  }
 ],
 "metadata": {
  "kernelspec": {
   "display_name": "Python (myenv)",
   "language": "python",
   "name": "python-cvcourse"
  },
  "language_info": {
   "codemirror_mode": {
    "name": "ipython",
    "version": 3
   },
   "file_extension": ".py",
   "mimetype": "text/x-python",
   "name": "python",
   "nbconvert_exporter": "python",
   "pygments_lexer": "ipython3",
   "version": "3.9.13"
  }
 },
 "nbformat": 4,
 "nbformat_minor": 5
}
