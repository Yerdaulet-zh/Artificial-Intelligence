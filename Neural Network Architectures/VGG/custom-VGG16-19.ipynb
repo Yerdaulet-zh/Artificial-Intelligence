{
 "cells": [
  {
   "cell_type": "code",
   "execution_count": 68,
   "id": "d9cf3c4c",
   "metadata": {},
   "outputs": [],
   "source": [
    "import torch\n",
    "import torch.nn as nn"
   ]
  },
  {
   "cell_type": "code",
   "execution_count": 69,
   "id": "73fff922",
   "metadata": {},
   "outputs": [],
   "source": [
    "class double_cnns(nn.Module):\n",
    "    def __init__(self, in_channels, intern_channels, expansion=None):\n",
    "        super(double_cnns, self).__init__()\n",
    "        self.conv1 = nn.Conv2d(in_channels, intern_channels, kernel_size=3, stride=1, padding=1)\n",
    "        self.bn1 = nn.BatchNorm2d(intern_channels)\n",
    "        self.conv2 = nn.Conv2d(intern_channels, intern_channels * 2, kernel_size=3, stride=1, padding=1)\n",
    "        self.bn2 = nn.BatchNorm2d(intern_channels * 2)\n",
    "        self.pool = nn.MaxPool2d(kernel_size=3, stride=2, padding=1)\n",
    "        \n",
    "    def forward(self, x):\n",
    "        x = self.conv1(x)\n",
    "        x = self.bn1(x)\n",
    "        x = self.conv2(x)\n",
    "        x = self.bn2(x)\n",
    "        x = self.pool(x)\n",
    "        return x"
   ]
  },
  {
   "cell_type": "code",
   "execution_count": 70,
   "id": "b1d94438",
   "metadata": {},
   "outputs": [],
   "source": [
    "class last_cnns(nn.Module):\n",
    "    def __init__(self, in_channels, intern_channels, expansion, is_four):\n",
    "        super(last_cnns, self).__init__()\n",
    "        self.expansion = expansion\n",
    "        self.is_four = is_four\n",
    "        self.conv1 = nn.Conv2d(in_channels, intern_channels, kernel_size=3, stride=1, padding=1)\n",
    "        self.bn1 = nn.BatchNorm2d(intern_channels)\n",
    "        self.conv2 = nn.Conv2d(intern_channels, intern_channels, kernel_size=3, stride=1, padding=1)\n",
    "        self.bn2 = nn.BatchNorm2d(intern_channels)\n",
    "        self.conv3 = nn.Conv2d(intern_channels, intern_channels, kernel_size=3, stride=1, padding=1)\n",
    "        self.bn3 = nn.BatchNorm2d(intern_channels)\n",
    "        self.conv4 = nn.Conv2d(intern_channels, intern_channels * self.expansion, kernel_size=3, stride=1, padding=1)\n",
    "        self.bn4 = nn.BatchNorm2d(intern_channels * self.expansion)\n",
    "        self.pool = nn.MaxPool2d(kernel_size=3, stride=2, padding=1)\n",
    "        \n",
    "    def forward(self, x):\n",
    "        x = self.conv1(x)\n",
    "        x = self.bn1(x)\n",
    "        x = self.conv2(x)\n",
    "        x = self.bn2(x)\n",
    "        \n",
    "        if self.is_four is not None:\n",
    "            x = self.conv3(x)\n",
    "            x = self.bn3(x)\n",
    "            \n",
    "        x = self.conv4(x)\n",
    "        x = self.bn4(x)\n",
    "        \n",
    "        if self.expansion == 1:\n",
    "            x = self.pool(x)\n",
    "            \n",
    "        return x"
   ]
  },
  {
   "cell_type": "code",
   "execution_count": 72,
   "id": "ad2ccd60",
   "metadata": {},
   "outputs": [],
   "source": [
    "class VGG(nn.Module):\n",
    "    def __init__(self, double_cnns, last_cnns, num_repeats, expansion, image_channels, num_classes, is_four=None):\n",
    "        super(VGG, self).__init__()\n",
    "        \n",
    "        self.in_channels = image_channels\n",
    "        self.layer1 = self._make_layer(block=double_cnns, num_rep=num_repeats[0], intern_channels=64)\n",
    "        \n",
    "        \n",
    "        self.layer2 = self._make_layer(block=last_cnns, num_rep=num_repeats[1], intern_channels=512, expansion=expansion, is_four=is_four)\n",
    "        self.pool = nn.AdaptiveAvgPool2d((1, 1))\n",
    "        \n",
    "        self.fc1 = nn.Linear(in_features=512*expansion[-1], out_features=4096)\n",
    "        self.fc2 = nn.Linear(in_features=4096, out_features=4096)\n",
    "        self.fc3 = nn.Linear(in_features=4096, out_features=num_classes)\n",
    "    \n",
    "    \n",
    "    def forward(self, x):\n",
    "        x = self.layer1(x)\n",
    "        x = self.layer2(x)\n",
    "        x = self.pool(x)\n",
    "        \n",
    "        x = x.reshape(x.shape[0], -1)\n",
    "        x = self.fc1(x)\n",
    "        x = self.fc2(x)\n",
    "        x = self.fc3(x)\n",
    "        \n",
    "        return x\n",
    "        \n",
    "    def _make_layer(self, block, num_rep, intern_channels, expansion=None, is_four=None):\n",
    "        layers = nn.ModuleList()\n",
    "        \n",
    "        if intern_channels != 512:\n",
    "            \n",
    "            for i in range(num_rep):\n",
    "                \n",
    "                layers.append(block(self.in_channels, intern_channels))\n",
    "                intern_channels  = intern_channels * 2\n",
    "                self.in_channels = intern_channels\n",
    "                \n",
    "        else:\n",
    "            self.in_channels = intern_channels\n",
    "            for i in range(num_rep):\n",
    "                layers.append(block(self.in_channels, intern_channels, expansion[i], is_four))\n",
    "        \n",
    "        return nn.Sequential(*layers)   "
   ]
  },
  {
   "cell_type": "code",
   "execution_count": 76,
   "id": "3f35e41c",
   "metadata": {},
   "outputs": [
    {
     "name": "stdout",
     "output_type": "stream",
     "text": [
      "torch.Size([4, 100])\n",
      "torch.Size([4, 100])\n"
     ]
    }
   ],
   "source": [
    "def VGG16(image_channels, num_classes):\n",
    "    return VGG(double_cnns, last_cnns, [3, 2], [1, 4], image_channels, num_classes)\n",
    "    \n",
    "def VGG19(image_channels, num_classes):\n",
    "    return VGG(double_cnns, last_cnns, [3, 2], [1, 4], image_channels, num_classes, True)\n",
    "\n",
    "def test():\n",
    "    model16 = VGG16(image_channels=3, num_classes=100)\n",
    "    model19 = VGG19(image_channels=3, num_classes=100)\n",
    "    x = torch.randn(4, 3, 224, 224)\n",
    "    print(model16(x).size())\n",
    "    print(model19(x).size())\n",
    "\n",
    "test()"
   ]
  },
  {
   "cell_type": "code",
   "execution_count": 64,
   "id": "58a8dd41",
   "metadata": {},
   "outputs": [],
   "source": []
  },
  {
   "cell_type": "code",
   "execution_count": null,
   "id": "1d39cf3e",
   "metadata": {},
   "outputs": [],
   "source": []
  },
  {
   "cell_type": "code",
   "execution_count": null,
   "id": "866af588",
   "metadata": {},
   "outputs": [],
   "source": []
  },
  {
   "cell_type": "code",
   "execution_count": null,
   "id": "28500e08",
   "metadata": {},
   "outputs": [],
   "source": []
  },
  {
   "cell_type": "code",
   "execution_count": null,
   "id": "330c248b",
   "metadata": {},
   "outputs": [],
   "source": []
  }
 ],
 "metadata": {
  "kernelspec": {
   "display_name": "Python (myenv)",
   "language": "python",
   "name": "python-cvcourse"
  },
  "language_info": {
   "codemirror_mode": {
    "name": "ipython",
    "version": 3
   },
   "file_extension": ".py",
   "mimetype": "text/x-python",
   "name": "python",
   "nbconvert_exporter": "python",
   "pygments_lexer": "ipython3",
   "version": "3.9.13"
  }
 },
 "nbformat": 4,
 "nbformat_minor": 5
}
