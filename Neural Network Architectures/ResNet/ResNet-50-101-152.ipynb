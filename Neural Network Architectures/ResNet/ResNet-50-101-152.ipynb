{
 "cells": [
  {
   "cell_type": "code",
   "execution_count": 29,
   "id": "1b94bd6c",
   "metadata": {},
   "outputs": [],
   "source": [
    "import torch \n",
    "import torch.nn as nn"
   ]
  },
  {
   "cell_type": "code",
   "execution_count": 63,
   "id": "45c5485f",
   "metadata": {},
   "outputs": [],
   "source": [
    "class Bottleneck(nn.Module):\n",
    "    def __init__(self, in_channels, out_channels, stride=1, first=None, downsample=None):\n",
    "        super(Bottleneck, self).__init__()\n",
    "        self.expansion = 4\n",
    "        self.downsample = downsample\n",
    "        \n",
    "        self.conv1 = nn.Conv2d(in_channels=in_channels, out_channels=out_channels, kernel_size=1, stride=1, bias=False)\n",
    "        self.bn1 = nn.BatchNorm2d(out_channels)\n",
    "        self.conv2 = nn.Conv2d(out_channels, out_channels, kernel_size=3, stride=stride, padding=1, bias=False)\n",
    "        self.bn2 = nn.BatchNorm2d(out_channels)\n",
    "        self.conv3 = nn.Conv2d(out_channels, out_channels*self.expansion, kernel_size=1, stride=1, bias=False)\n",
    "        self.bn3 = nn.BatchNorm2d(out_channels*self.expansion)\n",
    "        self.relu = nn.ReLU(inplace=True)\n",
    "           \n",
    "    def forward(self, x):\n",
    "        identity = x.copy()\n",
    "        \n",
    "        x = self.bn1(self.conv1(x))\n",
    "        x = self.relu(x)\n",
    "        x = self.bn2(self.conv2(x))\n",
    "        x = self.relu(x)\n",
    "        x = self.bn3(self.conv3(x))\n",
    "        x = self.relu(x)\n",
    "        \n",
    "        if self.downsample is not None:\n",
    "            identity = self.downsample(identity)\n",
    "            x += identity\n",
    "        \n",
    "        return x"
   ]
  },
  {
   "cell_type": "code",
   "execution_count": 73,
   "id": "dc6fabb7",
   "metadata": {},
   "outputs": [],
   "source": [
    "class ResNet(nn.Module):\n",
    "    def __init__(self, in_channels, num_classes, Bottleneck, layers):\n",
    "        super(ResNet, self).__init__()\n",
    "        self.in_channels = in_channels\n",
    "        \n",
    "        self.conv1 = nn.Conv2d(in_channels, out_channels=64, kernel_size=7, stride=2, padding=3, bias=False)\n",
    "        self.bn1 = nn.BatchNorm2d(64)\n",
    "        self.maxpool = nn.MaxPool2d(kernel_size=3, stride=2, padding=1)\n",
    "        \n",
    "        self.in_channels = 64\n",
    "        \n",
    "        self.layer1 = self._make_layer(Bottleneck, layers[0], out_channels=64, stride=1)\n",
    "        self.layer2 = self._make_layer(Bottleneck, layers[1], out_channels=128, stride=2)\n",
    "        self.layer3 = self._make_layer(Bottleneck, layers[2], out_channels=256, stride=2)\n",
    "        self.layer4 = self._make_layer(Bottleneck, layers[3], out_channels=512, stride=2)\n",
    "        \n",
    "        self.avgpool = nn.AdaptiveAvgPool2d(output_size=1)\n",
    "        self.fc = nn.Linear(in_features=2048, out_features=num_classes, bias=True)\n",
    "    \n",
    "    def forward(self, x):\n",
    "        x = self.bn1(self.conv1(x))\n",
    "        x = self.maxpool(x)\n",
    "\n",
    "        x = self.layer1(x)\n",
    "        x = self.layer2(x)\n",
    "        x = self.layer3(x)\n",
    "        x = self.layer4(x)\n",
    "        \n",
    "        x = self.avgpool(x)\n",
    "        x = self.fc(x)\n",
    "        \n",
    "        return x\n",
    "    \n",
    "    def _make_layer(self, Bottleneck, num_rep, out_channels, stride):\n",
    "        layers = []\n",
    "        \n",
    "        downsample = nn.Sequential(\n",
    "                nn.Conv2d(in_channels=self.in_channels, out_channels=out_channels * 4, kernel_size=1, stride=stride, bias=False),\n",
    "                nn.BatchNorm2d(out_channels * 4)\n",
    "                )\n",
    "        \n",
    "        layers.append(Bottleneck(in_channels=self.in_channels, out_channels=out_channels, stride=stride, downsample=downsample))\n",
    "        self.in_channels = out_channels * 4\n",
    "        \n",
    "        for i in range(num_rep-1):\n",
    "            layers.append(Bottleneck(in_channels=self.in_channels, out_channels=out_channels))\n",
    "        \n",
    "        \n",
    "        return nn.Sequential(*layers)\n",
    "       "
   ]
  },
  {
   "cell_type": "markdown",
   "id": "a0eb511f",
   "metadata": {},
   "source": [
    "### Written ResNet models using classes"
   ]
  },
  {
   "cell_type": "code",
   "execution_count": 74,
   "id": "e31df5c5",
   "metadata": {
    "scrolled": true
   },
   "outputs": [],
   "source": [
    "ResNet50 = ResNet(3, num_classes=1000, Bottleneck=Bottleneck, layers=[3, 4, 6, 3])\n",
    "ResNet101 = ResNet(3, num_classes=1000, Bottleneck=Bottleneck, layers=[3, 4, 23, 3])\n",
    "ResNet152 = ResNet(3, num_classes=1000, Bottleneck=Bottleneck, layers=[3, 8, 36, 3])"
   ]
  },
  {
   "cell_type": "markdown",
   "id": "b1047193",
   "metadata": {},
   "source": [
    "### PyTorch pretrained ready to use ResNet models"
   ]
  },
  {
   "cell_type": "code",
   "execution_count": 54,
   "id": "a0e55e30",
   "metadata": {},
   "outputs": [
    {
     "name": "stderr",
     "output_type": "stream",
     "text": [
      "Using cache found in C:\\Users\\yerda/.cache\\torch\\hub\\pytorch_vision_v0.10.0\n",
      "Using cache found in C:\\Users\\yerda/.cache\\torch\\hub\\pytorch_vision_v0.10.0\n",
      "Downloading: \"https://download.pytorch.org/models/resnet101-63fe2227.pth\" to C:\\Users\\yerda/.cache\\torch\\hub\\checkpoints\\resnet101-63fe2227.pth\n"
     ]
    },
    {
     "data": {
      "application/vnd.jupyter.widget-view+json": {
       "model_id": "766e7acd315b4959a6f13cfe0f124f2a",
       "version_major": 2,
       "version_minor": 0
      },
      "text/plain": [
       "  0%|          | 0.00/171M [00:00<?, ?B/s]"
      ]
     },
     "metadata": {},
     "output_type": "display_data"
    },
    {
     "name": "stderr",
     "output_type": "stream",
     "text": [
      "Using cache found in C:\\Users\\yerda/.cache\\torch\\hub\\pytorch_vision_v0.10.0\n",
      "Downloading: \"https://download.pytorch.org/models/resnet152-394f9c45.pth\" to C:\\Users\\yerda/.cache\\torch\\hub\\checkpoints\\resnet152-394f9c45.pth\n"
     ]
    },
    {
     "data": {
      "application/vnd.jupyter.widget-view+json": {
       "model_id": "e1c565c648cd45a9a1c31f1783280645",
       "version_major": 2,
       "version_minor": 0
      },
      "text/plain": [
       "  0%|          | 0.00/230M [00:00<?, ?B/s]"
      ]
     },
     "metadata": {},
     "output_type": "display_data"
    }
   ],
   "source": [
    "model_50 = torch.hub.load('pytorch/vision:v0.10.0', 'resnet50', pretrained=True)\n",
    "model_101 = torch.hub.load('pytorch/vision:v0.10.0', 'resnet101', pretrained=True)\n",
    "model_152 = torch.hub.load('pytorch/vision:v0.10.0', 'resnet152', pretrained=True)"
   ]
  },
  {
   "cell_type": "markdown",
   "id": "cfb7b3a4",
   "metadata": {},
   "source": [
    "### Let's load the pre-trained ResNet model's state weights to our models "
   ]
  },
  {
   "cell_type": "code",
   "execution_count": 76,
   "id": "43e53c30",
   "metadata": {
    "scrolled": true
   },
   "outputs": [
    {
     "data": {
      "text/plain": [
       "<All keys matched successfully>"
      ]
     },
     "execution_count": 76,
     "metadata": {},
     "output_type": "execute_result"
    }
   ],
   "source": [
    "ResNet50.load_state_dict(model_50.state_dict())"
   ]
  },
  {
   "cell_type": "code",
   "execution_count": 77,
   "id": "9be6c241",
   "metadata": {},
   "outputs": [
    {
     "data": {
      "text/plain": [
       "<All keys matched successfully>"
      ]
     },
     "execution_count": 77,
     "metadata": {},
     "output_type": "execute_result"
    }
   ],
   "source": [
    "ResNet101.load_state_dict(model_101.state_dict())"
   ]
  },
  {
   "cell_type": "code",
   "execution_count": 78,
   "id": "dd078a0d",
   "metadata": {
    "scrolled": true
   },
   "outputs": [
    {
     "data": {
      "text/plain": [
       "<All keys matched successfully>"
      ]
     },
     "execution_count": 78,
     "metadata": {},
     "output_type": "execute_result"
    }
   ],
   "source": [
    "ResNet152.load_state_dict(model_152.state_dict())"
   ]
  },
  {
   "cell_type": "code",
   "execution_count": null,
   "id": "80289b5e",
   "metadata": {},
   "outputs": [],
   "source": []
  }
 ],
 "metadata": {
  "kernelspec": {
   "display_name": "Python (myenv)",
   "language": "python",
   "name": "python-cvcourse"
  },
  "language_info": {
   "codemirror_mode": {
    "name": "ipython",
    "version": 3
   },
   "file_extension": ".py",
   "mimetype": "text/x-python",
   "name": "python",
   "nbconvert_exporter": "python",
   "pygments_lexer": "ipython3",
   "version": "3.9.13"
  }
 },
 "nbformat": 4,
 "nbformat_minor": 5
}
