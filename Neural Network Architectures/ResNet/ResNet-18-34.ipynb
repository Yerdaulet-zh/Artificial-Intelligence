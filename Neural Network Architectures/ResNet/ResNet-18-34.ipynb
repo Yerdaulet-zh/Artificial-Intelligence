{
 "cells": [
  {
   "cell_type": "code",
   "execution_count": 2,
   "id": "70b3c996",
   "metadata": {},
   "outputs": [],
   "source": [
    "import torch\n",
    "import torch.nn as nn "
   ]
  },
  {
   "cell_type": "code",
   "execution_count": 41,
   "id": "c58b6747",
   "metadata": {},
   "outputs": [],
   "source": [
    "class BasicBlock(nn.Module):\n",
    "    def __init__(self, in_channels, out_channels, stride=1, downsample=None):\n",
    "        super(BasicBlock, self).__init__()\n",
    "        self.downsample = downsample\n",
    "        self.conv1 = nn.Conv2d(in_channels, out_channels, kernel_size=3, stride=stride, padding=1, bias=False)\n",
    "        self.bn1 = nn.BatchNorm2d(out_channels)\n",
    "        self.conv2 = nn.Conv2d(out_channels, out_channels, kernel_size=3, stride=1, padding=1, bias=False)\n",
    "        self.bn2 = nn.BatchNorm2d(out_channels)\n",
    "        self.relu = nn.ReLU(inplace=True)\n",
    "        \n",
    "    def forward(self, x):\n",
    "        identity = x.clone()\n",
    "        \n",
    "        x = self.bn1(self.conv1(x))\n",
    "        x = self.relu(x)\n",
    "        x = self.bn2(self.conv2(x))\n",
    "        x = self.relu(x)\n",
    "        \n",
    "        if self.downsample is not None:\n",
    "            x += self.downsample(identity)\n",
    "        return x"
   ]
  },
  {
   "cell_type": "code",
   "execution_count": 48,
   "id": "a318236c",
   "metadata": {},
   "outputs": [],
   "source": [
    "class ResNet(nn.Module):\n",
    "    def __init__(self, in_channels, num_classes, BasicBlock, layers):\n",
    "        super(ResNet, self).__init__()\n",
    "        self.in_channels = 64\n",
    "        self.conv1 = nn.Conv2d(in_channels=in_channels, out_channels=64, kernel_size=7, stride=2, padding=3, bias=False)\n",
    "        self.bn1 = nn.BatchNorm2d(64)\n",
    "        self.maxpool = nn.MaxPool2d(kernel_size=3, stride=2, padding=1)\n",
    "        self.relu = nn.ReLU(inplace=True)\n",
    "        \n",
    "        self.layer1 = self._make_layer(BasicBlock, out_channels=64, num_rep=layers[0], stride=1)\n",
    "        self.layer2 = self._make_layer(BasicBlock, out_channels=128, num_rep=layers[1], stride=2)\n",
    "        self.layer3 = self._make_layer(BasicBlock, out_channels=256, num_rep=layers[2], stride=2)\n",
    "        self.layer4 = self._make_layer(BasicBlock, out_channels=512, num_rep=layers[3], stride=2)\n",
    "        \n",
    "        self.avgpool = nn.AdaptiveAvgPool2d(output_size=1)\n",
    "        self.fc = nn.Linear(in_features=512, out_features=1000, bias=True)\n",
    "        \n",
    "    def forward(self, x):\n",
    "        x = self.bn1(self.conv1(x))\n",
    "        x = self.maxpool(self.relu(x))\n",
    "        \n",
    "        x = self.layer1(x)\n",
    "        x = self.layer2(x)\n",
    "        x = self.layer3(x)\n",
    "        x = self.layer4(x)\n",
    "        \n",
    "        x = self.avgpool(x)\n",
    "        x = x.reshape(x.shape[0], -1)\n",
    "        x = self.fc(x)\n",
    "        return x\n",
    "    \n",
    "    def _make_layer(self, BasicBlock, out_channels, num_rep, stride):\n",
    "        layers = []\n",
    "        \n",
    "        downsample = nn.Sequential(\n",
    "            nn.Conv2d(in_channels=self.in_channels, out_channels=out_channels, kernel_size=1, stride=2, bias=False),\n",
    "            nn.BatchNorm2d(out_channels)\n",
    "        )\n",
    "        \n",
    "        if out_channels == 64:\n",
    "            layers.append(BasicBlock(self.in_channels, out_channels))\n",
    "        else:\n",
    "            layers.append(BasicBlock(self.in_channels, out_channels, stride=2, downsample=downsample))\n",
    "        self.in_channels = out_channels\n",
    "        \n",
    "        for i in range(num_rep-1):\n",
    "            layers.append(BasicBlock(self.in_channels, out_channels))\n",
    "        \n",
    "        return nn.Sequential(*layers)"
   ]
  },
  {
   "cell_type": "markdown",
   "id": "072494db",
   "metadata": {},
   "source": [
    "### Written ResNet models using classes"
   ]
  },
  {
   "cell_type": "code",
   "execution_count": 50,
   "id": "b4632c36",
   "metadata": {},
   "outputs": [],
   "source": [
    "ResNet18 = ResNet(in_channels=3, num_classes=1000, BasicBlock=BasicBlock, layers=[2, 2, 2, 2])\n",
    "ResNet34 = ResNet(in_channels=3, num_classes=1000, BasicBlock=BasicBlock, layers=[3, 4, 6, 3])"
   ]
  },
  {
   "cell_type": "markdown",
   "id": "10e9793f",
   "metadata": {},
   "source": [
    "### PyTorch pretrained ready to use ResNet models"
   ]
  },
  {
   "cell_type": "code",
   "execution_count": 49,
   "id": "b89faea6",
   "metadata": {
    "scrolled": true
   },
   "outputs": [
    {
     "name": "stderr",
     "output_type": "stream",
     "text": [
      "Using cache found in C:\\Users\\yerda/.cache\\torch\\hub\\pytorch_vision_v0.10.0\n",
      "Using cache found in C:\\Users\\yerda/.cache\\torch\\hub\\pytorch_vision_v0.10.0\n"
     ]
    }
   ],
   "source": [
    "model_18 = torch.hub.load('pytorch/vision:v0.10.0', 'resnet18', pretrained=True)\n",
    "model_34 = torch.hub.load('pytorch/vision:v0.10.0', 'resnet34', pretrained=True)"
   ]
  },
  {
   "cell_type": "markdown",
   "id": "f27e6f94",
   "metadata": {},
   "source": [
    "### Let's load the pre-trained ResNet model's state weights to our models' "
   ]
  },
  {
   "cell_type": "code",
   "execution_count": 51,
   "id": "6aaf8181",
   "metadata": {},
   "outputs": [
    {
     "data": {
      "text/plain": [
       "<All keys matched successfully>"
      ]
     },
     "execution_count": 51,
     "metadata": {},
     "output_type": "execute_result"
    }
   ],
   "source": [
    "ResNet18.load_state_dict(model_18.state_dict())"
   ]
  },
  {
   "cell_type": "code",
   "execution_count": 52,
   "id": "c854c80b",
   "metadata": {},
   "outputs": [
    {
     "data": {
      "text/plain": [
       "<All keys matched successfully>"
      ]
     },
     "execution_count": 52,
     "metadata": {},
     "output_type": "execute_result"
    }
   ],
   "source": [
    "ResNet34.load_state_dict(model_34.state_dict())"
   ]
  },
  {
   "cell_type": "code",
   "execution_count": 53,
   "id": "91336308",
   "metadata": {
    "scrolled": true
   },
   "outputs": [
    {
     "data": {
      "text/plain": [
       "torch.Size([4, 1000])"
      ]
     },
     "execution_count": 53,
     "metadata": {},
     "output_type": "execute_result"
    }
   ],
   "source": [
    "x = torch.randn((4, 3, 224, 224))\n",
    "ResNet18(x).shape"
   ]
  },
  {
   "cell_type": "code",
   "execution_count": 54,
   "id": "25ff4c94",
   "metadata": {},
   "outputs": [
    {
     "data": {
      "text/plain": [
       "torch.Size([4, 1000])"
      ]
     },
     "execution_count": 54,
     "metadata": {},
     "output_type": "execute_result"
    }
   ],
   "source": [
    "model_18(x).shape"
   ]
  },
  {
   "cell_type": "code",
   "execution_count": null,
   "id": "4862c502",
   "metadata": {},
   "outputs": [],
   "source": []
  },
  {
   "cell_type": "code",
   "execution_count": null,
   "id": "279f0e28",
   "metadata": {},
   "outputs": [],
   "source": []
  }
 ],
 "metadata": {
  "kernelspec": {
   "display_name": "Python (myenv)",
   "language": "python",
   "name": "python-cvcourse"
  },
  "language_info": {
   "codemirror_mode": {
    "name": "ipython",
    "version": 3
   },
   "file_extension": ".py",
   "mimetype": "text/x-python",
   "name": "python",
   "nbconvert_exporter": "python",
   "pygments_lexer": "ipython3",
   "version": "3.9.13"
  }
 },
 "nbformat": 4,
 "nbformat_minor": 5
}
